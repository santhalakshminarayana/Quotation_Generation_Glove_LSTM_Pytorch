{
  "nbformat": 4,
  "nbformat_minor": 0,
  "metadata": {
    "colab": {
      "name": "Quotation_Generation_Using_Pytroch.ipynb",
      "provenance": [],
      "collapsed_sections": [],
      "machine_shape": "hm"
    },
    "kernelspec": {
      "name": "python3",
      "display_name": "Python 3"
    },
    "accelerator": "GPU",
    "widgets": {
      "application/vnd.jupyter.widget-state+json": {
        "bd34594055094d709dc707946bad5e7f": {
          "model_module": "@jupyter-widgets/controls",
          "model_name": "HBoxModel",
          "state": {
            "_view_name": "HBoxView",
            "_dom_classes": [],
            "_model_name": "HBoxModel",
            "_view_module": "@jupyter-widgets/controls",
            "_model_module_version": "1.5.0",
            "_view_count": null,
            "_view_module_version": "1.5.0",
            "box_style": "",
            "layout": "IPY_MODEL_6d43c9f5602d4ba68a21b2ef74723e96",
            "_model_module": "@jupyter-widgets/controls",
            "children": [
              "IPY_MODEL_d6dd35d2f7684a1ebc8fcbd5f9f6b528",
              "IPY_MODEL_cefa1c09cdd740c3b52ca5808631587d"
            ]
          }
        },
        "6d43c9f5602d4ba68a21b2ef74723e96": {
          "model_module": "@jupyter-widgets/base",
          "model_name": "LayoutModel",
          "state": {
            "_view_name": "LayoutView",
            "grid_template_rows": null,
            "right": null,
            "justify_content": null,
            "_view_module": "@jupyter-widgets/base",
            "overflow": null,
            "_model_module_version": "1.2.0",
            "_view_count": null,
            "flex_flow": null,
            "width": null,
            "min_width": null,
            "border": null,
            "align_items": null,
            "bottom": null,
            "_model_module": "@jupyter-widgets/base",
            "top": null,
            "grid_column": null,
            "overflow_y": null,
            "overflow_x": null,
            "grid_auto_flow": null,
            "grid_area": null,
            "grid_template_columns": null,
            "flex": null,
            "_model_name": "LayoutModel",
            "justify_items": null,
            "grid_row": null,
            "max_height": null,
            "align_content": null,
            "visibility": null,
            "align_self": null,
            "height": null,
            "min_height": null,
            "padding": null,
            "grid_auto_rows": null,
            "grid_gap": null,
            "max_width": null,
            "order": null,
            "_view_module_version": "1.2.0",
            "grid_template_areas": null,
            "object_position": null,
            "object_fit": null,
            "grid_auto_columns": null,
            "margin": null,
            "display": null,
            "left": null
          }
        },
        "d6dd35d2f7684a1ebc8fcbd5f9f6b528": {
          "model_module": "@jupyter-widgets/controls",
          "model_name": "IntProgressModel",
          "state": {
            "_view_name": "ProgressView",
            "style": "IPY_MODEL_e6fab950755e424faf0334f87ca3cfa6",
            "_dom_classes": [],
            "description": "",
            "_model_name": "IntProgressModel",
            "bar_style": "success",
            "max": 100,
            "_view_module": "@jupyter-widgets/controls",
            "_model_module_version": "1.5.0",
            "value": 100,
            "_view_count": null,
            "_view_module_version": "1.5.0",
            "orientation": "horizontal",
            "min": 0,
            "description_tooltip": null,
            "_model_module": "@jupyter-widgets/controls",
            "layout": "IPY_MODEL_ae2416c135b04c84af1bbc04557e1ea6"
          }
        },
        "cefa1c09cdd740c3b52ca5808631587d": {
          "model_module": "@jupyter-widgets/controls",
          "model_name": "HTMLModel",
          "state": {
            "_view_name": "HTMLView",
            "style": "IPY_MODEL_35dffa0ebd824d818a5cd9eb18b11fc0",
            "_dom_classes": [],
            "description": "",
            "_model_name": "HTMLModel",
            "placeholder": "​",
            "_view_module": "@jupyter-widgets/controls",
            "_model_module_version": "1.5.0",
            "value": "100% 100/100 [01:10&lt;00:00,  1.44it/s]",
            "_view_count": null,
            "_view_module_version": "1.5.0",
            "description_tooltip": null,
            "_model_module": "@jupyter-widgets/controls",
            "layout": "IPY_MODEL_7d52111aa1b4456d8d5a9a0edf55889e"
          }
        },
        "e6fab950755e424faf0334f87ca3cfa6": {
          "model_module": "@jupyter-widgets/controls",
          "model_name": "ProgressStyleModel",
          "state": {
            "_view_name": "StyleView",
            "_model_name": "ProgressStyleModel",
            "description_width": "",
            "_view_module": "@jupyter-widgets/base",
            "_model_module_version": "1.5.0",
            "_view_count": null,
            "_view_module_version": "1.2.0",
            "bar_color": null,
            "_model_module": "@jupyter-widgets/controls"
          }
        },
        "ae2416c135b04c84af1bbc04557e1ea6": {
          "model_module": "@jupyter-widgets/base",
          "model_name": "LayoutModel",
          "state": {
            "_view_name": "LayoutView",
            "grid_template_rows": null,
            "right": null,
            "justify_content": null,
            "_view_module": "@jupyter-widgets/base",
            "overflow": null,
            "_model_module_version": "1.2.0",
            "_view_count": null,
            "flex_flow": null,
            "width": null,
            "min_width": null,
            "border": null,
            "align_items": null,
            "bottom": null,
            "_model_module": "@jupyter-widgets/base",
            "top": null,
            "grid_column": null,
            "overflow_y": null,
            "overflow_x": null,
            "grid_auto_flow": null,
            "grid_area": null,
            "grid_template_columns": null,
            "flex": null,
            "_model_name": "LayoutModel",
            "justify_items": null,
            "grid_row": null,
            "max_height": null,
            "align_content": null,
            "visibility": null,
            "align_self": null,
            "height": null,
            "min_height": null,
            "padding": null,
            "grid_auto_rows": null,
            "grid_gap": null,
            "max_width": null,
            "order": null,
            "_view_module_version": "1.2.0",
            "grid_template_areas": null,
            "object_position": null,
            "object_fit": null,
            "grid_auto_columns": null,
            "margin": null,
            "display": null,
            "left": null
          }
        },
        "35dffa0ebd824d818a5cd9eb18b11fc0": {
          "model_module": "@jupyter-widgets/controls",
          "model_name": "DescriptionStyleModel",
          "state": {
            "_view_name": "StyleView",
            "_model_name": "DescriptionStyleModel",
            "description_width": "",
            "_view_module": "@jupyter-widgets/base",
            "_model_module_version": "1.5.0",
            "_view_count": null,
            "_view_module_version": "1.2.0",
            "_model_module": "@jupyter-widgets/controls"
          }
        },
        "7d52111aa1b4456d8d5a9a0edf55889e": {
          "model_module": "@jupyter-widgets/base",
          "model_name": "LayoutModel",
          "state": {
            "_view_name": "LayoutView",
            "grid_template_rows": null,
            "right": null,
            "justify_content": null,
            "_view_module": "@jupyter-widgets/base",
            "overflow": null,
            "_model_module_version": "1.2.0",
            "_view_count": null,
            "flex_flow": null,
            "width": null,
            "min_width": null,
            "border": null,
            "align_items": null,
            "bottom": null,
            "_model_module": "@jupyter-widgets/base",
            "top": null,
            "grid_column": null,
            "overflow_y": null,
            "overflow_x": null,
            "grid_auto_flow": null,
            "grid_area": null,
            "grid_template_columns": null,
            "flex": null,
            "_model_name": "LayoutModel",
            "justify_items": null,
            "grid_row": null,
            "max_height": null,
            "align_content": null,
            "visibility": null,
            "align_self": null,
            "height": null,
            "min_height": null,
            "padding": null,
            "grid_auto_rows": null,
            "grid_gap": null,
            "max_width": null,
            "order": null,
            "_view_module_version": "1.2.0",
            "grid_template_areas": null,
            "object_position": null,
            "object_fit": null,
            "grid_auto_columns": null,
            "margin": null,
            "display": null,
            "left": null
          }
        },
        "f7594daade134d39a5895021def523b3": {
          "model_module": "@jupyter-widgets/controls",
          "model_name": "HBoxModel",
          "state": {
            "_view_name": "HBoxView",
            "_dom_classes": [],
            "_model_name": "HBoxModel",
            "_view_module": "@jupyter-widgets/controls",
            "_model_module_version": "1.5.0",
            "_view_count": null,
            "_view_module_version": "1.5.0",
            "box_style": "",
            "layout": "IPY_MODEL_2bb2d4249aad4aaea8ae198859b9adb0",
            "_model_module": "@jupyter-widgets/controls",
            "children": [
              "IPY_MODEL_a11b435e29b0479e8a6bb259b36dd67b",
              "IPY_MODEL_1408cc473d58441e91eeb427c91eac24"
            ]
          }
        },
        "2bb2d4249aad4aaea8ae198859b9adb0": {
          "model_module": "@jupyter-widgets/base",
          "model_name": "LayoutModel",
          "state": {
            "_view_name": "LayoutView",
            "grid_template_rows": null,
            "right": null,
            "justify_content": null,
            "_view_module": "@jupyter-widgets/base",
            "overflow": null,
            "_model_module_version": "1.2.0",
            "_view_count": null,
            "flex_flow": null,
            "width": null,
            "min_width": null,
            "border": null,
            "align_items": null,
            "bottom": null,
            "_model_module": "@jupyter-widgets/base",
            "top": null,
            "grid_column": null,
            "overflow_y": null,
            "overflow_x": null,
            "grid_auto_flow": null,
            "grid_area": null,
            "grid_template_columns": null,
            "flex": null,
            "_model_name": "LayoutModel",
            "justify_items": null,
            "grid_row": null,
            "max_height": null,
            "align_content": null,
            "visibility": null,
            "align_self": null,
            "height": null,
            "min_height": null,
            "padding": null,
            "grid_auto_rows": null,
            "grid_gap": null,
            "max_width": null,
            "order": null,
            "_view_module_version": "1.2.0",
            "grid_template_areas": null,
            "object_position": null,
            "object_fit": null,
            "grid_auto_columns": null,
            "margin": null,
            "display": null,
            "left": null
          }
        },
        "a11b435e29b0479e8a6bb259b36dd67b": {
          "model_module": "@jupyter-widgets/controls",
          "model_name": "IntProgressModel",
          "state": {
            "_view_name": "ProgressView",
            "style": "IPY_MODEL_df8d5fd2ca2c4dde80ec15afdad3f984",
            "_dom_classes": [],
            "description": "",
            "_model_name": "IntProgressModel",
            "bar_style": "success",
            "max": 101,
            "_view_module": "@jupyter-widgets/controls",
            "_model_module_version": "1.5.0",
            "value": 101,
            "_view_count": null,
            "_view_module_version": "1.5.0",
            "orientation": "horizontal",
            "min": 0,
            "description_tooltip": null,
            "_model_module": "@jupyter-widgets/controls",
            "layout": "IPY_MODEL_6cf2d224b7bc4f75a424d3da2583dde4"
          }
        },
        "1408cc473d58441e91eeb427c91eac24": {
          "model_module": "@jupyter-widgets/controls",
          "model_name": "HTMLModel",
          "state": {
            "_view_name": "HTMLView",
            "style": "IPY_MODEL_2534da0f3d1e4ec69b9944635889c83f",
            "_dom_classes": [],
            "description": "",
            "_model_name": "HTMLModel",
            "placeholder": "​",
            "_view_module": "@jupyter-widgets/controls",
            "_model_module_version": "1.5.0",
            "value": "100% 101/101 [05:11&lt;00:00,  3.07s/it]",
            "_view_count": null,
            "_view_module_version": "1.5.0",
            "description_tooltip": null,
            "_model_module": "@jupyter-widgets/controls",
            "layout": "IPY_MODEL_c90fe095f76a40b5958df10fd1fd1ccb"
          }
        },
        "df8d5fd2ca2c4dde80ec15afdad3f984": {
          "model_module": "@jupyter-widgets/controls",
          "model_name": "ProgressStyleModel",
          "state": {
            "_view_name": "StyleView",
            "_model_name": "ProgressStyleModel",
            "description_width": "",
            "_view_module": "@jupyter-widgets/base",
            "_model_module_version": "1.5.0",
            "_view_count": null,
            "_view_module_version": "1.2.0",
            "bar_color": null,
            "_model_module": "@jupyter-widgets/controls"
          }
        },
        "6cf2d224b7bc4f75a424d3da2583dde4": {
          "model_module": "@jupyter-widgets/base",
          "model_name": "LayoutModel",
          "state": {
            "_view_name": "LayoutView",
            "grid_template_rows": null,
            "right": null,
            "justify_content": null,
            "_view_module": "@jupyter-widgets/base",
            "overflow": null,
            "_model_module_version": "1.2.0",
            "_view_count": null,
            "flex_flow": null,
            "width": null,
            "min_width": null,
            "border": null,
            "align_items": null,
            "bottom": null,
            "_model_module": "@jupyter-widgets/base",
            "top": null,
            "grid_column": null,
            "overflow_y": null,
            "overflow_x": null,
            "grid_auto_flow": null,
            "grid_area": null,
            "grid_template_columns": null,
            "flex": null,
            "_model_name": "LayoutModel",
            "justify_items": null,
            "grid_row": null,
            "max_height": null,
            "align_content": null,
            "visibility": null,
            "align_self": null,
            "height": null,
            "min_height": null,
            "padding": null,
            "grid_auto_rows": null,
            "grid_gap": null,
            "max_width": null,
            "order": null,
            "_view_module_version": "1.2.0",
            "grid_template_areas": null,
            "object_position": null,
            "object_fit": null,
            "grid_auto_columns": null,
            "margin": null,
            "display": null,
            "left": null
          }
        },
        "2534da0f3d1e4ec69b9944635889c83f": {
          "model_module": "@jupyter-widgets/controls",
          "model_name": "DescriptionStyleModel",
          "state": {
            "_view_name": "StyleView",
            "_model_name": "DescriptionStyleModel",
            "description_width": "",
            "_view_module": "@jupyter-widgets/base",
            "_model_module_version": "1.5.0",
            "_view_count": null,
            "_view_module_version": "1.2.0",
            "_model_module": "@jupyter-widgets/controls"
          }
        },
        "c90fe095f76a40b5958df10fd1fd1ccb": {
          "model_module": "@jupyter-widgets/base",
          "model_name": "LayoutModel",
          "state": {
            "_view_name": "LayoutView",
            "grid_template_rows": null,
            "right": null,
            "justify_content": null,
            "_view_module": "@jupyter-widgets/base",
            "overflow": null,
            "_model_module_version": "1.2.0",
            "_view_count": null,
            "flex_flow": null,
            "width": null,
            "min_width": null,
            "border": null,
            "align_items": null,
            "bottom": null,
            "_model_module": "@jupyter-widgets/base",
            "top": null,
            "grid_column": null,
            "overflow_y": null,
            "overflow_x": null,
            "grid_auto_flow": null,
            "grid_area": null,
            "grid_template_columns": null,
            "flex": null,
            "_model_name": "LayoutModel",
            "justify_items": null,
            "grid_row": null,
            "max_height": null,
            "align_content": null,
            "visibility": null,
            "align_self": null,
            "height": null,
            "min_height": null,
            "padding": null,
            "grid_auto_rows": null,
            "grid_gap": null,
            "max_width": null,
            "order": null,
            "_view_module_version": "1.2.0",
            "grid_template_areas": null,
            "object_position": null,
            "object_fit": null,
            "grid_auto_columns": null,
            "margin": null,
            "display": null,
            "left": null
          }
        }
      }
    }
  },
  "cells": [
    {
      "cell_type": "code",
      "metadata": {
        "id": "NJs8GfJIxLUT",
        "colab_type": "code",
        "outputId": "9dbcac4a-91a1-418f-c4ba-d0b542f6e91b",
        "colab": {
          "base_uri": "https://localhost:8080/",
          "height": 122
        }
      },
      "source": [
        "from google.colab import drive\n",
        "drive.mount('/content/drive')"
      ],
      "execution_count": 0,
      "outputs": [
        {
          "output_type": "stream",
          "text": [
            "Go to this URL in a browser: https://accounts.google.com/o/oauth2/auth?client_id=947318989803-6bn6qk8qdgf4n4g3pfee6491hc0brc4i.apps.googleusercontent.com&redirect_uri=urn%3aietf%3awg%3aoauth%3a2.0%3aoob&response_type=code&scope=email%20https%3a%2f%2fwww.googleapis.com%2fauth%2fdocs.test%20https%3a%2f%2fwww.googleapis.com%2fauth%2fdrive%20https%3a%2f%2fwww.googleapis.com%2fauth%2fdrive.photos.readonly%20https%3a%2f%2fwww.googleapis.com%2fauth%2fpeopleapi.readonly\n",
            "\n",
            "Enter your authorization code:\n",
            "··········\n",
            "Mounted at /content/drive\n"
          ],
          "name": "stdout"
        }
      ]
    },
    {
      "cell_type": "code",
      "metadata": {
        "id": "TovF7PD7xUub",
        "colab_type": "code",
        "outputId": "e8ee8d41-efec-4903-ddc8-16b305a15d03",
        "colab": {
          "base_uri": "https://localhost:8080/",
          "height": 34
        }
      },
      "source": [
        "% cd /content/drive/My\\ Drive/Colab\\ Notebooks/Quotation_Generation/"
      ],
      "execution_count": 0,
      "outputs": [
        {
          "output_type": "stream",
          "text": [
            "/content/drive/My Drive/Colab Notebooks/Quotation_Generation\n"
          ],
          "name": "stdout"
        }
      ]
    },
    {
      "cell_type": "code",
      "metadata": {
        "id": "UMLKRdJkLtI2",
        "colab_type": "code",
        "colab": {}
      },
      "source": [
        "from collections import  defaultdict\n",
        "\n",
        "import numpy as np\n",
        "import seaborn as sns \n",
        "import matplotlib.pyplot as plt\n",
        "import math\n",
        "sns.set(palette = 'gist_earth', style='white')\n",
        "\n",
        "import torch\n",
        "import torch.nn as nn\n",
        "import torch.optim as optim\n",
        "import torch.nn.functional as F\n",
        "\n",
        "from tqdm import tqdm_notebook as tqdm\n",
        "\n",
        "from sklearn.manifold import TSNE"
      ],
      "execution_count": 0,
      "outputs": []
    },
    {
      "cell_type": "code",
      "metadata": {
        "id": "TLp5gG6PyQ9e",
        "colab_type": "code",
        "colab": {}
      },
      "source": [
        "quotes = []\n",
        "max_len = 0\n",
        "min_len = 5\n",
        "sent_len_dic = defaultdict(int)\n",
        "with open('quotes.txt', 'r') as f:\n",
        "  while True:\n",
        "    quote = f.readline()\n",
        "    if not quote:\n",
        "      break\n",
        "    words = quote.split(' ')\n",
        "    sent_len = len(words)\n",
        "    if sent_len < min_len:\n",
        "      continue\n",
        "    max_len = sent_len if sent_len > max_len else max_len\n",
        "    sent_len_dic[sent_len] += 1\n",
        "    flag = False\n",
        "    for i in range(0,10):\n",
        "      if str(i) in quote:\n",
        "        flag = True\n",
        "        break\n",
        "    if flag == True:\n",
        "      continue\n",
        "    quote = quote.replace(',', ' ,').replace('.', ' .').replace('_','').strip('\\n') + ' ;'\n",
        "    quotes.append(quote.lower())"
      ],
      "execution_count": 0,
      "outputs": []
    },
    {
      "cell_type": "code",
      "metadata": {
        "id": "QLyfEDHUjxDd",
        "colab_type": "code",
        "outputId": "0c84b06c-d534-4842-b56b-07560509d0d5",
        "colab": {
          "base_uri": "https://localhost:8080/",
          "height": 68
        }
      },
      "source": [
        "print(f'Sentences with\\nmin count words : {min_len}\\nmax count words : {max_len}')"
      ],
      "execution_count": 0,
      "outputs": [
        {
          "output_type": "stream",
          "text": [
            "Sentences with\n",
            "min count words : 5\n",
            "max count words : 111\n"
          ],
          "name": "stdout"
        }
      ]
    },
    {
      "cell_type": "code",
      "metadata": {
        "id": "EsDrBGoWygRT",
        "colab_type": "code",
        "outputId": "8a4f8e62-59ee-48a1-d3c9-78e3736f74ab",
        "colab": {
          "base_uri": "https://localhost:8080/",
          "height": 34
        }
      },
      "source": [
        "len(quotes)"
      ],
      "execution_count": 0,
      "outputs": [
        {
          "output_type": "execute_result",
          "data": {
            "text/plain": [
              "3831"
            ]
          },
          "metadata": {
            "tags": []
          },
          "execution_count": 6
        }
      ]
    },
    {
      "cell_type": "code",
      "metadata": {
        "id": "XCI0JFJPy4zO",
        "colab_type": "code",
        "colab": {}
      },
      "source": [
        "words_dict = dict()\n",
        "def unique_words(data_list):\n",
        "  for x in data_list:\n",
        "    for word in x.split(' '):\n",
        "      words_dict[word] = 1\n",
        "  return words_dict.keys()"
      ],
      "execution_count": 0,
      "outputs": []
    },
    {
      "cell_type": "code",
      "metadata": {
        "id": "iJuJEO1U0wlo",
        "colab_type": "code",
        "colab": {}
      },
      "source": [
        "words = list(unique_words(quotes))\n",
        "words.sort()"
      ],
      "execution_count": 0,
      "outputs": []
    },
    {
      "cell_type": "code",
      "metadata": {
        "id": "QDqZwqq-5D7Y",
        "colab_type": "code",
        "outputId": "e8300783-fcb2-4e45-ac06-20711f1670db",
        "colab": {
          "base_uri": "https://localhost:8080/",
          "height": 34
        }
      },
      "source": [
        "len(words)"
      ],
      "execution_count": 0,
      "outputs": [
        {
          "output_type": "execute_result",
          "data": {
            "text/plain": [
              "6361"
            ]
          },
          "metadata": {
            "tags": []
          },
          "execution_count": 9
        }
      ]
    },
    {
      "cell_type": "code",
      "metadata": {
        "id": "HLkaeFAI8x7Q",
        "colab_type": "code",
        "colab": {}
      },
      "source": [
        "word_to_int = dict()\n",
        "int_to_word = dict()\n",
        "vocab_len = len(words)\n",
        "for i in range(0, vocab_len):\n",
        "  word_to_int[words[i]] = i \n",
        "  int_to_word[i] = words[i]"
      ],
      "execution_count": 0,
      "outputs": []
    },
    {
      "cell_type": "code",
      "metadata": {
        "id": "CeEnw4u7bsxW",
        "colab_type": "code",
        "colab": {}
      },
      "source": [
        "co_occ_matrix = defaultdict(int)\n",
        "window = 5 # not greater than 5\n",
        "for sent in quotes:\n",
        "  words = sent.split(' ')\n",
        "  # first window \n",
        "  for i in range(0, window):\n",
        "    for j in range(i+1, window):\n",
        "      weight = 1/(j-i)\n",
        "      ind_1 = word_to_int[words[i]]\n",
        "      ind_2 = word_to_int[words[j]]\n",
        "      if ind_1 == ind_2:\n",
        "        continue\n",
        "      co_occ_matrix[(ind_1, ind_2)] += weight\n",
        "      co_occ_matrix[(ind_2, ind_1)] += weight\n",
        "  # rest windows\n",
        "  for i in range(window, len(words)):\n",
        "    for j in range(i-window, i):\n",
        "      weight = 1/(i-j)\n",
        "      ind_1 = word_to_int[words[i]]\n",
        "      ind_2 = word_to_int[words[j]]\n",
        "      if ind_1 == ind_2:\n",
        "        continue\n",
        "      co_occ_matrix[(ind_1, ind_2)] += weight\n",
        "      co_occ_matrix[(ind_2, ind_1)] += weight"
      ],
      "execution_count": 0,
      "outputs": []
    },
    {
      "cell_type": "code",
      "metadata": {
        "id": "1csW6dDKMoj1",
        "colab_type": "code",
        "outputId": "ad32335e-92e0-4eab-e0aa-8ad1df912b60",
        "colab": {
          "base_uri": "https://localhost:8080/",
          "height": 285
        }
      },
      "source": [
        "topk, ind = torch.topk(torch.tensor(list(co_occ_matrix.values())), 200)\n",
        "sns.distplot(topk)"
      ],
      "execution_count": 0,
      "outputs": [
        {
          "output_type": "execute_result",
          "data": {
            "text/plain": [
              "<matplotlib.axes._subplots.AxesSubplot at 0x7ff1f3f938d0>"
            ]
          },
          "metadata": {
            "tags": []
          },
          "execution_count": 12
        },
        {
          "output_type": "display_data",
          "data": {
            "image/png": "[encoded data removed]",
            "text/plain": [
              "<Figure size 432x288 with 1 Axes>"
            ]
          },
          "metadata": {
            "tags": []
          }
        }
      ]
    },
    {
      "cell_type": "code",
      "metadata": {
        "id": "J_FCAJVIL-1F",
        "colab_type": "code",
        "outputId": "e8800828-b823-4ce4-c80d-b0293695b462",
        "colab": {
          "base_uri": "https://localhost:8080/",
          "height": 285
        }
      },
      "source": [
        "elem_den = []\n",
        "for i in co_occ_matrix.values():\n",
        "  if i > 0 and i < 10:\n",
        "    elem_den.append(i)\n",
        "sns.violinplot(x = elem_den)"
      ],
      "execution_count": 0,
      "outputs": [
        {
          "output_type": "execute_result",
          "data": {
            "text/plain": [
              "<matplotlib.axes._subplots.AxesSubplot at 0x7ff1f1c90f98>"
            ]
          },
          "metadata": {
            "tags": []
          },
          "execution_count": 13
        },
        {
          "output_type": "display_data",
          "data": {
            "image/png": "[encoded data removed]",
            "text/plain": [
              "<Figure size 432x288 with 1 Axes>"
            ]
          },
          "metadata": {
            "tags": []
          }
        }
      ]
    },
    {
      "cell_type": "code",
      "metadata": {
        "id": "sKEmnNzjeHRR",
        "colab_type": "code",
        "colab": {}
      },
      "source": [
        "tot_pairs = len(co_occ_matrix)\n",
        "p1, p2,occs = list(), list(), list()\n",
        "for i in co_occ_matrix.keys():\n",
        "    p1.append(i[0])\n",
        "    p2.append(i[1])\n",
        "    occs.append(co_occ_matrix[i])\n",
        "p1 = np.array(p1)\n",
        "p2 = np.array(p2)\n",
        "occs = np.array(occs)"
      ],
      "execution_count": 0,
      "outputs": []
    },
    {
      "cell_type": "code",
      "metadata": {
        "id": "tmKvsPupQ-Z6",
        "colab_type": "code",
        "outputId": "5fbf38dd-a640-4ff8-f944-1398f3d5637d",
        "colab": {
          "base_uri": "https://localhost:8080/",
          "height": 34
        }
      },
      "source": [
        "occs.size"
      ],
      "execution_count": 0,
      "outputs": [
        {
          "output_type": "execute_result",
          "data": {
            "text/plain": [
              "249808"
            ]
          },
          "metadata": {
            "tags": []
          },
          "execution_count": 15
        }
      ]
    },
    {
      "cell_type": "code",
      "metadata": {
        "id": "Ontxjlf0cBjm",
        "colab_type": "code",
        "colab": {}
      },
      "source": [
        "def get_batch(batch_size):\n",
        "  ind = np.random.permutation(occs.size).tolist()\n",
        "  i = 0\n",
        "  for i in range(0, tot_pairs, batch_size):\n",
        "    batch_ids = ind[i:i+batch_size]\n",
        "    yield p1[batch_ids], p2[batch_ids], occs[batch_ids]"
      ],
      "execution_count": 0,
      "outputs": []
    },
    {
      "cell_type": "code",
      "metadata": {
        "id": "lF4e-6wkXcoI",
        "colab_type": "code",
        "colab": {}
      },
      "source": [
        "device = None\n",
        "if torch.cuda.is_available():\n",
        "    device = torch.device(\"cuda:0\")\n",
        "else:\n",
        "    device = torch.device(\"cpu\")"
      ],
      "execution_count": 0,
      "outputs": []
    },
    {
      "cell_type": "code",
      "metadata": {
        "id": "7VOYaxcZVRwD",
        "colab_type": "code",
        "colab": {}
      },
      "source": [
        "class Glove(nn.Module) :\n",
        "  def __init__(self, vocab_len, num_dim,):\n",
        "    super(Glove, self).__init__()\n",
        "    self.ui = nn.Embedding(vocab_len, num_dim).to(device)\n",
        "    self.uj = nn.Embedding(vocab_len, num_dim).to(device)\n",
        "    self.bi = nn.Embedding(vocab_len, 1).to(device)\n",
        "    self.bj = nn.Embedding(vocab_len, 1).to(device)\n",
        "\n",
        "    self.ui.weight.data.uniform_(-1,1)\n",
        "    self.uj.weight.data.uniform_(-1,1)\n",
        "    self.bi.weight.data.zero_()\n",
        "    self.bj.weight.data.zero_()\n",
        "  \n",
        "  def forward(self, i_vecs, j_vecs):\n",
        "    i_s = self.ui(i_vecs)\n",
        "    j_s = self.uj(j_vecs)\n",
        "    b_i = torch.squeeze(self.bi(i_vecs))\n",
        "    b_j = torch.squeeze(self.bj(j_vecs))\n",
        "    return torch.sum(i_s * j_s, dim = 1) + b_i + b_j"
      ],
      "execution_count": 0,
      "outputs": []
    },
    {
      "cell_type": "code",
      "metadata": {
        "id": "GfX16YdopLAJ",
        "colab_type": "code",
        "colab": {}
      },
      "source": [
        "num_dim = 128\n",
        "glove = Glove(vocab_len, num_dim).to(device)"
      ],
      "execution_count": 0,
      "outputs": []
    },
    {
      "cell_type": "code",
      "metadata": {
        "id": "0wuj2wyAI1C9",
        "colab_type": "code",
        "colab": {}
      },
      "source": [
        "def f_x(x, x_max, alpha):\n",
        "  x = (x/x_max)**alpha\n",
        "  return torch.min(x, torch.ones_like(x)).to(device)\n",
        "\n",
        "def weight_mse(w_x, x, log_x):\n",
        "  loss = w_x * F.mse_loss(x, log_x, reduction='none')\n",
        "  return torch.mean(loss).to(device)"
      ],
      "execution_count": 0,
      "outputs": []
    },
    {
      "cell_type": "code",
      "metadata": {
        "id": "yzCMv1ubl7NO",
        "colab_type": "code",
        "outputId": "7dae85eb-11d5-4f35-eaa5-e9028f04a381",
        "colab": {
          "base_uri": "https://localhost:8080/",
          "height": 1000,
          "referenced_widgets": [
            "bd34594055094d709dc707946bad5e7f",
            "6d43c9f5602d4ba68a21b2ef74723e96",
            "d6dd35d2f7684a1ebc8fcbd5f9f6b528",
            "cefa1c09cdd740c3b52ca5808631587d",
            "e6fab950755e424faf0334f87ca3cfa6",
            "ae2416c135b04c84af1bbc04557e1ea6",
            "35dffa0ebd824d818a5cd9eb18b11fc0",
            "7d52111aa1b4456d8d5a9a0edf55889e"
          ]
        }
      },
      "source": [
        "epochs = 100\n",
        "batch_size = 512\n",
        "batch_count = 0\n",
        "x_max = 1\n",
        "alpha = 0.75\n",
        "loss_trace = []\n",
        "n_bathces = int(math.floor(len(occs)/batch_size))\n",
        "optimizer = optim.Adagrad(glove.parameters(), lr=0.05)\n",
        "for epoch in tqdm(range(epochs)):\n",
        "  batch_count = -1\n",
        "  for ind_1, ind_2, occ in get_batch(batch_size):\n",
        "    batch_count += 1\n",
        "    occ = torch.FloatTensor(occ).to(device)\n",
        "    optimizer.zero_grad()\n",
        "    y_hat = glove.forward(torch.tensor(ind_1).to(device), \n",
        "                          torch.tensor(ind_2).to(device))\n",
        "    w_x = f_x(occ, x_max, alpha)\n",
        "    loss = weight_mse(w_x, y_hat, torch.log(occ))\n",
        "    loss.backward()\n",
        "    optimizer.step()\n",
        "    loss_trace.append(loss.item())\n",
        "    if batch_count == n_bathces:\n",
        "      break\n",
        "  print(f\"Epoch : {epoch + 1} ----> Loss : {loss_trace[-1]}\")"
      ],
      "execution_count": 0,
      "outputs": [
        {
          "output_type": "display_data",
          "data": {
            "application/vnd.jupyter.widget-view+json": {
              "model_id": "bd34594055094d709dc707946bad5e7f",
              "version_minor": 0,
              "version_major": 2
            },
            "text/plain": [
              "HBox(children=(IntProgress(value=0), HTML(value='')))"
            ]
          },
          "metadata": {
            "tags": []
          }
        },
        {
          "output_type": "stream",
          "text": [
            "Epoch : 1 ----> Loss : 4.796401500701904\n",
            "Epoch : 2 ----> Loss : 2.014411211013794\n",
            "Epoch : 3 ----> Loss : 1.426303744316101\n",
            "Epoch : 4 ----> Loss : 1.0219517946243286\n",
            "Epoch : 5 ----> Loss : 0.9586169719696045\n",
            "Epoch : 6 ----> Loss : 0.7812556624412537\n",
            "Epoch : 7 ----> Loss : 0.7010027170181274\n",
            "Epoch : 8 ----> Loss : 0.6730878353118896\n",
            "Epoch : 9 ----> Loss : 0.505446195602417\n",
            "Epoch : 10 ----> Loss : 0.48864707350730896\n",
            "Epoch : 11 ----> Loss : 0.42977482080459595\n",
            "Epoch : 12 ----> Loss : 0.4258069694042206\n",
            "Epoch : 13 ----> Loss : 0.40871748328208923\n",
            "Epoch : 14 ----> Loss : 0.3873564898967743\n",
            "Epoch : 15 ----> Loss : 0.3715595602989197\n",
            "Epoch : 16 ----> Loss : 0.38262832164764404\n",
            "Epoch : 17 ----> Loss : 0.3344598412513733\n",
            "Epoch : 18 ----> Loss : 0.3035099506378174\n",
            "Epoch : 19 ----> Loss : 0.29445740580558777\n",
            "Epoch : 20 ----> Loss : 0.2994334101676941\n",
            "Epoch : 21 ----> Loss : 0.20549406111240387\n",
            "Epoch : 22 ----> Loss : 0.24363911151885986\n",
            "Epoch : 23 ----> Loss : 0.2681289613246918\n",
            "Epoch : 24 ----> Loss : 0.24000214040279388\n",
            "Epoch : 25 ----> Loss : 0.2526589334011078\n",
            "Epoch : 26 ----> Loss : 0.2096152901649475\n",
            "Epoch : 27 ----> Loss : 0.20147758722305298\n",
            "Epoch : 28 ----> Loss : 0.18120785057544708\n",
            "Epoch : 29 ----> Loss : 0.19716937839984894\n",
            "Epoch : 30 ----> Loss : 0.17901384830474854\n",
            "Epoch : 31 ----> Loss : 0.1933664083480835\n",
            "Epoch : 32 ----> Loss : 0.16095784306526184\n",
            "Epoch : 33 ----> Loss : 0.1736927330493927\n",
            "Epoch : 34 ----> Loss : 0.1567644625902176\n",
            "Epoch : 35 ----> Loss : 0.19178061187267303\n",
            "Epoch : 36 ----> Loss : 0.1426701694726944\n",
            "Epoch : 37 ----> Loss : 0.17866656184196472\n",
            "Epoch : 38 ----> Loss : 0.15436622500419617\n",
            "Epoch : 39 ----> Loss : 0.18198798596858978\n",
            "Epoch : 40 ----> Loss : 0.16307803988456726\n",
            "Epoch : 41 ----> Loss : 0.16314055025577545\n",
            "Epoch : 42 ----> Loss : 0.15512752532958984\n",
            "Epoch : 43 ----> Loss : 0.1407899260520935\n",
            "Epoch : 44 ----> Loss : 0.16897889971733093\n",
            "Epoch : 45 ----> Loss : 0.14180248975753784\n",
            "Epoch : 46 ----> Loss : 0.15545207262039185\n",
            "Epoch : 47 ----> Loss : 0.15387989580631256\n",
            "Epoch : 48 ----> Loss : 0.12659546732902527\n",
            "Epoch : 49 ----> Loss : 0.15585926175117493\n",
            "Epoch : 50 ----> Loss : 0.13493146002292633\n",
            "Epoch : 51 ----> Loss : 0.12801656126976013\n",
            "Epoch : 52 ----> Loss : 0.13777688145637512\n",
            "Epoch : 53 ----> Loss : 0.09616035968065262\n",
            "Epoch : 54 ----> Loss : 0.14205625653266907\n",
            "Epoch : 55 ----> Loss : 0.11623765528202057\n",
            "Epoch : 56 ----> Loss : 0.12292160093784332\n",
            "Epoch : 57 ----> Loss : 0.1190635934472084\n",
            "Epoch : 58 ----> Loss : 0.11154908686876297\n",
            "Epoch : 59 ----> Loss : 0.12162309885025024\n",
            "Epoch : 60 ----> Loss : 0.1064210757613182\n",
            "Epoch : 61 ----> Loss : 0.10693100094795227\n",
            "Epoch : 62 ----> Loss : 0.11972589045763016\n",
            "Epoch : 63 ----> Loss : 0.11175313591957092\n",
            "Epoch : 64 ----> Loss : 0.09873320907354355\n",
            "Epoch : 65 ----> Loss : 0.10549955815076828\n",
            "Epoch : 66 ----> Loss : 0.1005711704492569\n",
            "Epoch : 67 ----> Loss : 0.11455339938402176\n",
            "Epoch : 68 ----> Loss : 0.09063642472028732\n",
            "Epoch : 69 ----> Loss : 0.10180366784334183\n",
            "Epoch : 70 ----> Loss : 0.14373937249183655\n",
            "Epoch : 71 ----> Loss : 0.11405614763498306\n",
            "Epoch : 72 ----> Loss : 0.09900388866662979\n",
            "Epoch : 73 ----> Loss : 0.10204146057367325\n",
            "Epoch : 74 ----> Loss : 0.11652762442827225\n",
            "Epoch : 75 ----> Loss : 0.1080511212348938\n",
            "Epoch : 76 ----> Loss : 0.10836173593997955\n",
            "Epoch : 77 ----> Loss : 0.0980234146118164\n",
            "Epoch : 78 ----> Loss : 0.10077328979969025\n",
            "Epoch : 79 ----> Loss : 0.10664699971675873\n",
            "Epoch : 80 ----> Loss : 0.08906294405460358\n",
            "Epoch : 81 ----> Loss : 0.0909762755036354\n",
            "Epoch : 82 ----> Loss : 0.0957847461104393\n",
            "Epoch : 83 ----> Loss : 0.07920680940151215\n",
            "Epoch : 84 ----> Loss : 0.08984296023845673\n",
            "Epoch : 85 ----> Loss : 0.09093265980482101\n",
            "Epoch : 86 ----> Loss : 0.089451864361763\n",
            "Epoch : 87 ----> Loss : 0.08259624987840652\n",
            "Epoch : 88 ----> Loss : 0.08016000688076019\n",
            "Epoch : 89 ----> Loss : 0.08158089220523834\n",
            "Epoch : 90 ----> Loss : 0.09190693497657776\n",
            "Epoch : 91 ----> Loss : 0.10357186198234558\n",
            "Epoch : 92 ----> Loss : 0.09238259494304657\n",
            "Epoch : 93 ----> Loss : 0.07649978250265121\n",
            "Epoch : 94 ----> Loss : 0.07427524775266647\n",
            "Epoch : 95 ----> Loss : 0.07595456391572952\n",
            "Epoch : 96 ----> Loss : 0.07658737897872925\n",
            "Epoch : 97 ----> Loss : 0.08572196960449219\n",
            "Epoch : 98 ----> Loss : 0.08962361514568329\n",
            "Epoch : 99 ----> Loss : 0.07171893864870071\n",
            "Epoch : 100 ----> Loss : 0.06875928491353989\n",
            "\n"
          ],
          "name": "stdout"
        }
      ]
    },
    {
      "cell_type": "code",
      "metadata": {
        "id": "iZ5NxoeLkdT-",
        "colab_type": "code",
        "outputId": "a20442c9-de3b-4179-9a81-c6e039c0ebe2",
        "colab": {
          "base_uri": "https://localhost:8080/",
          "height": 285
        }
      },
      "source": [
        "plt.plot(loss_trace)"
      ],
      "execution_count": 0,
      "outputs": [
        {
          "output_type": "execute_result",
          "data": {
            "text/plain": [
              "[<matplotlib.lines.Line2D at 0x7ff1e14b8e48>]"
            ]
          },
          "metadata": {
            "tags": []
          },
          "execution_count": 22
        },
        {
          "output_type": "display_data",
          "data": {
            "image/png": "[encoded data removed]",
            "text/plain": [
              "<Figure size 432x288 with 1 Axes>"
            ]
          },
          "metadata": {
            "tags": []
          }
        }
      ]
    },
    {
      "cell_type": "code",
      "metadata": {
        "id": "fv7_ZPOwmm6a",
        "colab_type": "code",
        "outputId": "89ebb2da-104c-424b-9396-4a26c975c7b8",
        "colab": {
          "base_uri": "https://localhost:8080/",
          "height": 85
        }
      },
      "source": [
        "torch.save(glove, 'glove.pth')"
      ],
      "execution_count": 0,
      "outputs": [
        {
          "output_type": "stream",
          "text": [
            "/usr/local/lib/python3.6/dist-packages/torch/serialization.py:292: UserWarning: Couldn't retrieve source code for container of type Glove. It won't be checked for correctness upon loading.\n",
            "  \"type \" + obj.__name__ + \". It won't be checked \"\n",
            "/usr/local/lib/python3.6/dist-packages/torch/serialization.py:292: UserWarning: Couldn't retrieve source code for container of type Embedding. It won't be checked for correctness upon loading.\n",
            "  \"type \" + obj.__name__ + \". It won't be checked \"\n"
          ],
          "name": "stderr"
        }
      ]
    },
    {
      "cell_type": "code",
      "metadata": {
        "id": "SjRblVKbqqSn",
        "colab_type": "code",
        "colab": {}
      },
      "source": [
        "glove = torch.load('glove.pth',device)"
      ],
      "execution_count": 0,
      "outputs": []
    },
    {
      "cell_type": "code",
      "metadata": {
        "id": "ErlX-NAkrhwm",
        "colab_type": "code",
        "outputId": "a82ec64c-1bcc-4656-9040-915c1cee82c8",
        "colab": {
          "base_uri": "https://localhost:8080/",
          "height": 119
        }
      },
      "source": [
        "glove.eval()"
      ],
      "execution_count": 0,
      "outputs": [
        {
          "output_type": "execute_result",
          "data": {
            "text/plain": [
              "Glove(\n",
              "  (ui): Embedding(6361, 128)\n",
              "  (uj): Embedding(6361, 128)\n",
              "  (bi): Embedding(6361, 1)\n",
              "  (bj): Embedding(6361, 1)\n",
              ")"
            ]
          },
          "metadata": {
            "tags": []
          },
          "execution_count": 15
        }
      ]
    },
    {
      "cell_type": "code",
      "metadata": {
        "id": "jnmwIedtfY1k",
        "colab_type": "code",
        "colab": {}
      },
      "source": [
        "emb_i = glove.ui.weight.cpu().data.numpy()\n",
        "emb_j = glove.uj.weight.cpu().data.numpy()\n",
        "emb = emb_i + emb_j"
      ],
      "execution_count": 0,
      "outputs": []
    },
    {
      "cell_type": "code",
      "metadata": {
        "id": "SYXrZ0TGrmsH",
        "colab_type": "code",
        "colab": {}
      },
      "source": [
        "tsne = TSNE(n_components=2, perplexity=40, n_iter=300,metric='cosine')\n",
        "n_points = 100\n",
        "emb_tsne = tsne.fit_transform(emb[:n_points, :])"
      ],
      "execution_count": 0,
      "outputs": []
    },
    {
      "cell_type": "code",
      "metadata": {
        "id": "LKF7Jx04s4kX",
        "colab_type": "code",
        "outputId": "dacd85f2-0fd8-4687-c555-c7ee36c88e82",
        "colab": {
          "base_uri": "https://localhost:8080/",
          "height": 920
        }
      },
      "source": [
        "labels = list(word_to_int.keys())[:n_points]\n",
        "x = emb_tsne[:,0]\n",
        "y = emb_tsne[:,1]\n",
        "plt.figure(figsize=(16, 16)) \n",
        "for i in range(n_points):\n",
        "  plt.scatter(x[i],y[i])\n",
        "  plt.annotate(labels[i], xy=(x[i], y[i]), xytext=(5, 2),\n",
        "               textcoords='offset points', ha='right', va='bottom')"
      ],
      "execution_count": 0,
      "outputs": [
        {
          "output_type": "display_data",
          "data": {
            "image/png": "[encoded data removed]",
            "text/plain": [
              "<Figure size 1152x1152 with 1 Axes>"
            ]
          },
          "metadata": {
            "tags": []
          }
        }
      ]
    },
    {
      "cell_type": "code",
      "metadata": {
        "id": "R-htHDXghDFq",
        "colab_type": "code",
        "colab": {}
      },
      "source": [
        "max_sent_len = 50\n",
        "window = 5\n",
        "sequences, next_words = [], []\n",
        "for quote in quotes:\n",
        "  words = quote.split(' ')\n",
        "  for i in range(0,len(words) - window + 1):\n",
        "    sequences.append(words[i:i+window])\n",
        "    if (i + window) < len(words):\n",
        "      next_words.append(words[i+window])\n",
        "    else:\n",
        "      next_words.append(';')"
      ],
      "execution_count": 0,
      "outputs": []
    },
    {
      "cell_type": "code",
      "metadata": {
        "id": "7pQ7IA7PnncW",
        "colab_type": "code",
        "outputId": "5ad1730a-b823-4132-d4b0-5dd32e716c66",
        "colab": {
          "base_uri": "https://localhost:8080/",
          "height": 391
        }
      },
      "source": [
        "print(\"{0:^40} {1}\".format('Sequence', 'Next_Word'))\n",
        "print('-'*50)\n",
        "for i in range(20):\n",
        "  print(f\"{' '.join(sequences[i]) : <40} {next_words[i] : ^10}\")"
      ],
      "execution_count": 0,
      "outputs": [
        {
          "output_type": "stream",
          "text": [
            "                Sequence                 Next_Word\n",
            "--------------------------------------------------\n",
            "acting is the least mysterious               of    \n",
            "is the least mysterious of                  all    \n",
            "the least mysterious of all                crafts  \n",
            "least mysterious of all crafts               .     \n",
            "mysterious of all crafts .                whenever \n",
            "of all crafts . whenever                     we    \n",
            "all crafts . whenever we                    want   \n",
            "crafts . whenever we want                something \n",
            ". whenever we want something                from   \n",
            "whenever we want something from           somebody \n",
            "we want something from somebody              or    \n",
            "want something from somebody or             when   \n",
            "something from somebody or when              we    \n",
            "from somebody or when we                    want   \n",
            "somebody or when we want                     to    \n",
            "or when we want to                          hide   \n",
            "when we want to hide                     something \n",
            "we want to hide something                    or    \n",
            "want to hide something or                 pretend  \n",
            "to hide something or pretend                 ,     \n"
          ],
          "name": "stdout"
        }
      ]
    },
    {
      "cell_type": "code",
      "metadata": {
        "id": "NFB6axzVn2rc",
        "colab_type": "code",
        "outputId": "540a2459-6695-4161-8949-30c08ded6a4d",
        "colab": {
          "base_uri": "https://localhost:8080/",
          "height": 34
        }
      },
      "source": [
        "tot_seq = len(next_words)\n",
        "print(tot_seq)"
      ],
      "execution_count": 0,
      "outputs": [
        {
          "output_type": "stream",
          "text": [
            "65915\n"
          ],
          "name": "stdout"
        }
      ]
    },
    {
      "cell_type": "code",
      "metadata": {
        "id": "J2r9BKCFtQt5",
        "colab_type": "code",
        "colab": {}
      },
      "source": [
        "X = np.zeros((tot_seq, window, num_dim))\n",
        "Y = np.zeros((tot_seq,vocab_len))\n",
        "for i,seq in enumerate(sequences):\n",
        "  for j,word in enumerate(seq):\n",
        "    num_id = word_to_int[word]\n",
        "    X[i][j] = np.squeeze(emb[num_id])\n",
        "  num_id = word_to_int[next_words[i]]\n",
        "  Y[i][num_id] = 1"
      ],
      "execution_count": 0,
      "outputs": []
    },
    {
      "cell_type": "code",
      "metadata": {
        "id": "89H1CV2fuOgB",
        "colab_type": "code",
        "outputId": "738fbfb6-e84a-4231-8140-e60e39e57b52",
        "colab": {
          "base_uri": "https://localhost:8080/",
          "height": 34
        }
      },
      "source": [
        "X.shape, Y.shape"
      ],
      "execution_count": 0,
      "outputs": [
        {
          "output_type": "execute_result",
          "data": {
            "text/plain": [
              "((65915, 5, 128), (65915, 6361))"
            ]
          },
          "metadata": {
            "tags": []
          },
          "execution_count": 21
        }
      ]
    },
    {
      "cell_type": "code",
      "metadata": {
        "id": "wdy4YZYt3OOE",
        "colab_type": "code",
        "colab": {}
      },
      "source": [
        "def get_batches_x(tot_seq, batch_size):\n",
        "  ind = np.random.permutation(tot_seq).tolist()\n",
        "  i = 0\n",
        "  for i in range(0, tot_seq, batch_size):\n",
        "    batch_ids = ind[i:i+batch_size]\n",
        "    yield X[batch_ids], Y[batch_ids]"
      ],
      "execution_count": 0,
      "outputs": []
    },
    {
      "cell_type": "code",
      "metadata": {
        "id": "JfUXtQsQQl8f",
        "colab_type": "code",
        "colab": {}
      },
      "source": [
        "class Quote_Generator(nn.Module):\n",
        "  def __init__(self, embed_size, hidden_size, vocab_len):\n",
        "    super(Quote_Generator, self).__init__()\n",
        "    self.hidden_size = hidden_size\n",
        "    self.lstm = nn.LSTM(embed_size, hidden_size, batch_first = True).to(device)\n",
        "    self.dropout = nn.Dropout(0.4)\n",
        "    self.dense = nn.Linear(hidden_size*5, vocab_len).to(device)\n",
        "  \n",
        "  def forward(self, x, prev_state):\n",
        "    output, state = self.lstm(x)\n",
        "    output = self.dropout(output)\n",
        "    logits = self.dense(output.reshape(-1, hidden_size*5))\n",
        "    return logits, state\n",
        "\n",
        "  def zero_states(self, batch_size):\n",
        "    return (torch.zeros(1, batch_size, self.hidden_size).to(device), \n",
        "            torch.zeros(1, batch_size, self.hidden_size).to(device))"
      ],
      "execution_count": 0,
      "outputs": []
    },
    {
      "cell_type": "code",
      "metadata": {
        "id": "i8b9nmmsN_DS",
        "colab_type": "code",
        "colab": {}
      },
      "source": [
        "def entropy_loss(y, y_hat):\n",
        "  y_hat = F.softmax(y_hat, dim = 1)\n",
        "  ll = - (y * torch.log(y_hat))\n",
        "  return torch.sum(ll, dim = 1).mean().to(device)"
      ],
      "execution_count": 0,
      "outputs": []
    },
    {
      "cell_type": "code",
      "metadata": {
        "id": "vvDBWuQm1PaZ",
        "colab_type": "code",
        "colab": {}
      },
      "source": [
        "embed_size = 128\n",
        "hidden_size = 64\n",
        "qt_gen = Quote_Generator(embed_size, hidden_size, vocab_len).to(device)"
      ],
      "execution_count": 0,
      "outputs": []
    },
    {
      "cell_type": "code",
      "metadata": {
        "id": "8hsAzhL912FI",
        "colab_type": "code",
        "outputId": "76fc199b-76e9-4620-e4d2-a239306ae765",
        "colab": {
          "base_uri": "https://localhost:8080/",
          "height": 236,
          "referenced_widgets": [
            "f7594daade134d39a5895021def523b3",
            "2bb2d4249aad4aaea8ae198859b9adb0",
            "a11b435e29b0479e8a6bb259b36dd67b",
            "1408cc473d58441e91eeb427c91eac24",
            "df8d5fd2ca2c4dde80ec15afdad3f984",
            "6cf2d224b7bc4f75a424d3da2583dde4",
            "2534da0f3d1e4ec69b9944635889c83f",
            "c90fe095f76a40b5958df10fd1fd1ccb"
          ]
        }
      },
      "source": [
        "epochs = 101\n",
        "batch_size = 4096\n",
        "losses = []\n",
        "optimizer = torch.optim.Adam(qt_gen.parameters(), lr=0.001)\n",
        "for epoch in tqdm(range(epochs)):\n",
        "  batches = get_batches_x(tot_seq, batch_size)\n",
        "  h_h, h_c = qt_gen.zero_states(batch_size)\n",
        "  for x,y in batches:\n",
        "    qt_gen.train()\n",
        "    optimizer.zero_grad()\n",
        "    x = torch.tensor(x).float().to(device)\n",
        "    y = torch.tensor(y).long().to(device)\n",
        "    logits, (h_h, h_c) = qt_gen(x, (h_h, h_c))\n",
        "    loss = entropy_loss(y, logits)\n",
        "    h_h.detach()\n",
        "    h_c.detach()\n",
        "    loss.backward()\n",
        "    _ = nn.utils.clip_grad_norm_(qt_gen.parameters(), 5)\n",
        "    optimizer.step()\n",
        "    losses.append(loss.item())\n",
        "  if (epoch) % 10 == 0:\n",
        "    print(f\"Epoch : {epoch} ----> Loss : {np.array(losses).mean()}\")\n",
        "  losses = []"
      ],
      "execution_count": 0,
      "outputs": [
        {
          "output_type": "display_data",
          "data": {
            "application/vnd.jupyter.widget-view+json": {
              "model_id": "f7594daade134d39a5895021def523b3",
              "version_minor": 0,
              "version_major": 2
            },
            "text/plain": [
              "HBox(children=(IntProgress(value=0, max=101), HTML(value='')))"
            ]
          },
          "metadata": {
            "tags": []
          }
        },
        {
          "output_type": "stream",
          "text": [
            "Epoch : 0 ----> Loss : 1.981710391886094\n",
            "Epoch : 10 ----> Loss : 1.9763988116208244\n",
            "Epoch : 20 ----> Loss : 1.9651567234712488\n",
            "Epoch : 30 ----> Loss : 1.9701273721807144\n",
            "Epoch : 40 ----> Loss : 1.9645351802601534\n",
            "Epoch : 50 ----> Loss : 1.9601879961350386\n",
            "Epoch : 60 ----> Loss : 1.9378872478709501\n",
            "Epoch : 70 ----> Loss : 1.958003415780909\n",
            "Epoch : 80 ----> Loss : 1.9386976045720719\n",
            "Epoch : 90 ----> Loss : 1.9374018486808329\n",
            "Epoch : 100 ----> Loss : 1.945599780363195\n"
          ],
          "name": "stdout"
        }
      ]
    },
    {
      "cell_type": "code",
      "metadata": {
        "id": "ufyG0ZNPDI8V",
        "colab_type": "code",
        "outputId": "f8558b8c-5681-4a80-8aeb-54d3399c5bd0",
        "colab": {
          "base_uri": "https://localhost:8080/",
          "height": 153
        }
      },
      "source": [
        "torch.save(qt_gen, 'qt_gen.pth')"
      ],
      "execution_count": 0,
      "outputs": [
        {
          "output_type": "stream",
          "text": [
            "/usr/local/lib/python3.6/dist-packages/torch/serialization.py:292: UserWarning: Couldn't retrieve source code for container of type Quote_Generator. It won't be checked for correctness upon loading.\n",
            "  \"type \" + obj.__name__ + \". It won't be checked \"\n",
            "/usr/local/lib/python3.6/dist-packages/torch/serialization.py:292: UserWarning: Couldn't retrieve source code for container of type LSTM. It won't be checked for correctness upon loading.\n",
            "  \"type \" + obj.__name__ + \". It won't be checked \"\n",
            "/usr/local/lib/python3.6/dist-packages/torch/serialization.py:292: UserWarning: Couldn't retrieve source code for container of type Dropout. It won't be checked for correctness upon loading.\n",
            "  \"type \" + obj.__name__ + \". It won't be checked \"\n",
            "/usr/local/lib/python3.6/dist-packages/torch/serialization.py:292: UserWarning: Couldn't retrieve source code for container of type Linear. It won't be checked for correctness upon loading.\n",
            "  \"type \" + obj.__name__ + \". It won't be checked \"\n"
          ],
          "name": "stderr"
        }
      ]
    },
    {
      "cell_type": "code",
      "metadata": {
        "id": "yGjqOjixDTha",
        "colab_type": "code",
        "outputId": "3c9f8bfa-e359-4d5d-d3c1-dde174a1a3ce",
        "colab": {
          "base_uri": "https://localhost:8080/",
          "height": 102
        }
      },
      "source": [
        "qt_gen = torch.load('qt_gen.pth', device)\n",
        "qt_gen.eval()"
      ],
      "execution_count": 0,
      "outputs": [
        {
          "output_type": "execute_result",
          "data": {
            "text/plain": [
              "Quote_Generator(\n",
              "  (lstm): LSTM(128, 64, batch_first=True)\n",
              "  (dropout): Dropout(p=0.4, inplace=False)\n",
              "  (dense): Linear(in_features=320, out_features=6361, bias=True)\n",
              ")"
            ]
          },
          "metadata": {
            "tags": []
          },
          "execution_count": 40
        }
      ]
    },
    {
      "cell_type": "code",
      "metadata": {
        "id": "1qixxzopJO0D",
        "colab_type": "code",
        "colab": {}
      },
      "source": [
        "def predict(x, temp):\n",
        "  probs = F.softmax(x / temp, dim = 0)\n",
        "  probs = np.squeeze(probs.detach().cpu().numpy())\n",
        "  ind = np.random.choice(6361, 1, p = probs)\n",
        "  return ind[0]"
      ],
      "execution_count": 0,
      "outputs": []
    },
    {
      "cell_type": "code",
      "metadata": {
        "id": "FEqlQATKGO19",
        "colab_type": "code",
        "colab": {}
      },
      "source": [
        "generated_text = ['there','is','no','one','love']\n",
        "curr_len = 0\n",
        "embeds = []\n",
        "is_end = word_to_int[';']\n",
        "\n",
        "qt_gen.eval()\n",
        "\n",
        "for i in generated_text:\n",
        "  embeds.append(emb[word_to_int[i]])\n",
        "\n",
        "while(curr_len < 50):\n",
        "  curr_len += 1\n",
        "  input_tensor = torch.Tensor(embeds).view(1,5,128).float().to(device)\n",
        "  h_h, h_c = qt_gen.zero_states(1)\n",
        "  output, (h_h, h_c) = qt_gen(input_tensor, (h_h,h_c))\n",
        "  word_ind = predict(output[-1], 1.6)\n",
        "  embeds[0][:4].tolist().extend(emb[word_ind])\n",
        "  generated_text.append(int_to_word[word_ind])\n",
        "  if word_ind == is_end:\n",
        "    break"
      ],
      "execution_count": 0,
      "outputs": []
    },
    {
      "cell_type": "code",
      "metadata": {
        "id": "vp0OgyhHGOtx",
        "colab_type": "code",
        "outputId": "c62bf342-d4d1-42a1-c3c7-84752374a995",
        "colab": {
          "base_uri": "https://localhost:8080/",
          "height": 54
        }
      },
      "source": [
        "' '.join(generated_text)"
      ],
      "execution_count": 0,
      "outputs": [
        {
          "output_type": "execute_result",
          "data": {
            "text/plain": [
              "\"there is no one love or all just or all for the we be so no are , gone in . never hope too that's hope we really in his , gets life your because . of too you the them all yourself . that often all mother everything no in you pain , must\""
            ]
          },
          "metadata": {
            "tags": []
          },
          "execution_count": 63
        }
      ]
    },
    {
      "cell_type": "code",
      "metadata": {
        "id": "GYtRbd832Hyw",
        "colab_type": "code",
        "colab": {}
      },
      "source": [
        "torch.cuda.empty_cache()"
      ],
      "execution_count": 0,
      "outputs": []
    },
    {
      "cell_type": "code",
      "metadata": {
        "id": "VJQbodGICwRP",
        "colab_type": "code",
        "colab": {}
      },
      "source": [
        ""
      ],
      "execution_count": 0,
      "outputs": []
    }
  ]
}